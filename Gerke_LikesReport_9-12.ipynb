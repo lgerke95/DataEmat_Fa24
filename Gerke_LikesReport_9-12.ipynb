{
 "cells": [
  {
   "cell_type": "markdown",
   "id": "482af629-271c-4113-82a5-4be8e864c606",
   "metadata": {},
   "source": [
    "## __Leah Gerke__\n",
    "### _Likes Report_\n",
    "### _09/12/2024_\n",
    "__Who or what is the source of your personal Instagram data? (you downloaded the data, but did you create it?)__\n",
    "- I created my data through my activity on Instagram.\n",
    "\n",
    "__Why was this data created and what purposes can the data serve?__\n",
    "- My data is stored by Instagram and is used to create personalized ads, a customizable experience, and a history of activity that I can look back on whenever I need to.\n",
    "\n",
    "__In what ways may this data be reliable?__\n",
    "- When looking at my history of likes, comments, and shares on my posts and what I've left on others' posts, the data would be reliable in keeping track of that.\n",
    "\n",
    "__In what ways may this data be unreliable?__\n",
    "- Personalized ads only work if I'm still interested in what Instagram is choosing to present to me. If my interests change, Instagram's data would be unreliable in showcasing and keeping up with changes in my interests."
   ]
  },
  {
   "cell_type": "code",
   "execution_count": 255,
   "id": "c1154f1e-36b8-4c55-a6f4-622f426b38aa",
   "metadata": {},
   "outputs": [],
   "source": [
    "import pandas as pd\n",
    "import json"
   ]
  },
  {
   "cell_type": "code",
   "execution_count": 256,
   "id": "fc70b1a9-616f-4ff4-b3c7-ec671d83a8c4",
   "metadata": {},
   "outputs": [],
   "source": [
    "path = r\"C:\\Users\\lgerk\\Downloads\\instagram-leah.gerke-2024-09-12-coLtGm0R\\your_instagram_activity\\likes\\liked_posts.json\"\n",
    "with open(path) as j:\n",
    "    dict = json.load(j)"
   ]
  },
  {
   "cell_type": "code",
   "execution_count": 257,
   "id": "3d87c9af-a655-4315-843f-8308f843bb48",
   "metadata": {},
   "outputs": [],
   "source": [
    "val = pd.DataFrame(dict)"
   ]
  },
  {
   "cell_type": "code",
   "execution_count": 258,
   "id": "5ee3a774-bab4-43a5-b655-853b64a1dde9",
   "metadata": {},
   "outputs": [
    {
     "data": {
      "text/html": [
       "<div>\n",
       "<style scoped>\n",
       "    .dataframe tbody tr th:only-of-type {\n",
       "        vertical-align: middle;\n",
       "    }\n",
       "\n",
       "    .dataframe tbody tr th {\n",
       "        vertical-align: top;\n",
       "    }\n",
       "\n",
       "    .dataframe thead th {\n",
       "        text-align: right;\n",
       "    }\n",
       "</style>\n",
       "<table border=\"1\" class=\"dataframe\">\n",
       "  <thead>\n",
       "    <tr style=\"text-align: right;\">\n",
       "      <th></th>\n",
       "      <th>likes_media_likes</th>\n",
       "    </tr>\n",
       "  </thead>\n",
       "  <tbody>\n",
       "    <tr>\n",
       "      <th>0</th>\n",
       "      <td>{'title': 'oco.maryjane', 'string_list_data': ...</td>\n",
       "    </tr>\n",
       "    <tr>\n",
       "      <th>1</th>\n",
       "      <td>{'title': 'vivgwinn', 'string_list_data': [{'h...</td>\n",
       "    </tr>\n",
       "    <tr>\n",
       "      <th>2</th>\n",
       "      <td>{'title': 'estella.woodworth', 'string_list_da...</td>\n",
       "    </tr>\n",
       "    <tr>\n",
       "      <th>3</th>\n",
       "      <td>{'title': 'shopeverlore', 'string_list_data': ...</td>\n",
       "    </tr>\n",
       "    <tr>\n",
       "      <th>4</th>\n",
       "      <td>{'title': 'lizzajenkins_', 'string_list_data':...</td>\n",
       "    </tr>\n",
       "  </tbody>\n",
       "</table>\n",
       "</div>"
      ],
      "text/plain": [
       "                                   likes_media_likes\n",
       "0  {'title': 'oco.maryjane', 'string_list_data': ...\n",
       "1  {'title': 'vivgwinn', 'string_list_data': [{'h...\n",
       "2  {'title': 'estella.woodworth', 'string_list_da...\n",
       "3  {'title': 'shopeverlore', 'string_list_data': ...\n",
       "4  {'title': 'lizzajenkins_', 'string_list_data':..."
      ]
     },
     "execution_count": 258,
     "metadata": {},
     "output_type": "execute_result"
    }
   ],
   "source": [
    "val.head()"
   ]
  },
  {
   "cell_type": "code",
   "execution_count": 259,
   "id": "dd185f3c-b42a-49ec-bf70-2db8e6b5d54c",
   "metadata": {},
   "outputs": [
    {
     "data": {
      "text/plain": [
       "dict_keys(['likes_media_likes'])"
      ]
     },
     "execution_count": 259,
     "metadata": {},
     "output_type": "execute_result"
    }
   ],
   "source": [
    "dict.keys()"
   ]
  },
  {
   "cell_type": "code",
   "execution_count": 260,
   "id": "05288a03-6d7b-4ba4-adab-cf1a0822906c",
   "metadata": {},
   "outputs": [],
   "source": [
    "val2 = pd.DataFrame(dict['likes_media_likes'])"
   ]
  },
  {
   "cell_type": "code",
   "execution_count": 261,
   "id": "69108a57-ae23-4e81-be05-533e089ad014",
   "metadata": {},
   "outputs": [
    {
     "data": {
      "text/html": [
       "<div>\n",
       "<style scoped>\n",
       "    .dataframe tbody tr th:only-of-type {\n",
       "        vertical-align: middle;\n",
       "    }\n",
       "\n",
       "    .dataframe tbody tr th {\n",
       "        vertical-align: top;\n",
       "    }\n",
       "\n",
       "    .dataframe thead th {\n",
       "        text-align: right;\n",
       "    }\n",
       "</style>\n",
       "<table border=\"1\" class=\"dataframe\">\n",
       "  <thead>\n",
       "    <tr style=\"text-align: right;\">\n",
       "      <th></th>\n",
       "      <th>title</th>\n",
       "      <th>string_list_data</th>\n",
       "    </tr>\n",
       "  </thead>\n",
       "  <tbody>\n",
       "    <tr>\n",
       "      <th>0</th>\n",
       "      <td>oco.maryjane</td>\n",
       "      <td>[{'href': 'https://www.instagram.com/p/C_zKAzc...</td>\n",
       "    </tr>\n",
       "    <tr>\n",
       "      <th>1</th>\n",
       "      <td>vivgwinn</td>\n",
       "      <td>[{'href': 'https://www.instagram.com/p/C_wfvI2...</td>\n",
       "    </tr>\n",
       "    <tr>\n",
       "      <th>2</th>\n",
       "      <td>estella.woodworth</td>\n",
       "      <td>[{'href': 'https://www.instagram.com/p/C_wnC0Z...</td>\n",
       "    </tr>\n",
       "    <tr>\n",
       "      <th>3</th>\n",
       "      <td>shopeverlore</td>\n",
       "      <td>[{'href': 'https://www.instagram.com/p/C_s_ul1...</td>\n",
       "    </tr>\n",
       "    <tr>\n",
       "      <th>4</th>\n",
       "      <td>lizzajenkins_</td>\n",
       "      <td>[{'href': 'https://www.instagram.com/p/C_qJqPE...</td>\n",
       "    </tr>\n",
       "  </tbody>\n",
       "</table>\n",
       "</div>"
      ],
      "text/plain": [
       "               title                                   string_list_data\n",
       "0       oco.maryjane  [{'href': 'https://www.instagram.com/p/C_zKAzc...\n",
       "1           vivgwinn  [{'href': 'https://www.instagram.com/p/C_wfvI2...\n",
       "2  estella.woodworth  [{'href': 'https://www.instagram.com/p/C_wnC0Z...\n",
       "3       shopeverlore  [{'href': 'https://www.instagram.com/p/C_s_ul1...\n",
       "4      lizzajenkins_  [{'href': 'https://www.instagram.com/p/C_qJqPE..."
      ]
     },
     "execution_count": 261,
     "metadata": {},
     "output_type": "execute_result"
    }
   ],
   "source": [
    "val2.head()"
   ]
  },
  {
   "cell_type": "code",
   "execution_count": 262,
   "id": "ee77b867-f10f-46ef-b167-d6627de6fb83",
   "metadata": {},
   "outputs": [
    {
     "data": {
      "text/plain": [
       "[{'href': 'https://www.instagram.com/p/C_zKAzcNOBJ/',\n",
       "  'value': 'ð\\x9f\\x91\\x8d',\n",
       "  'timestamp': 1726107411}]"
      ]
     },
     "execution_count": 262,
     "metadata": {},
     "output_type": "execute_result"
    }
   ],
   "source": [
    "val2['string_list_data'].iloc[0]"
   ]
  },
  {
   "cell_type": "code",
   "execution_count": 263,
   "id": "193455f2-b18c-4e5e-8c48-b5403f2152c7",
   "metadata": {},
   "outputs": [
    {
     "data": {
      "text/plain": [
       "1726107411"
      ]
     },
     "execution_count": 263,
     "metadata": {},
     "output_type": "execute_result"
    }
   ],
   "source": [
    "val2['string_list_data'].iloc[0][0]['timestamp']"
   ]
  },
  {
   "cell_type": "code",
   "execution_count": 264,
   "id": "4b3f25c6-a796-47a5-bd97-7f3bd4fea288",
   "metadata": {},
   "outputs": [],
   "source": [
    "val2['Time of Like'] = [x[0]['timestamp'] for x in df2['string_list_data']]"
   ]
  },
  {
   "cell_type": "code",
   "execution_count": 265,
   "id": "685fd06b-ac12-4d7f-81b8-0a627b01bb32",
   "metadata": {},
   "outputs": [
    {
     "data": {
      "text/html": [
       "<div>\n",
       "<style scoped>\n",
       "    .dataframe tbody tr th:only-of-type {\n",
       "        vertical-align: middle;\n",
       "    }\n",
       "\n",
       "    .dataframe tbody tr th {\n",
       "        vertical-align: top;\n",
       "    }\n",
       "\n",
       "    .dataframe thead th {\n",
       "        text-align: right;\n",
       "    }\n",
       "</style>\n",
       "<table border=\"1\" class=\"dataframe\">\n",
       "  <thead>\n",
       "    <tr style=\"text-align: right;\">\n",
       "      <th></th>\n",
       "      <th>title</th>\n",
       "      <th>string_list_data</th>\n",
       "      <th>Time of Like</th>\n",
       "    </tr>\n",
       "  </thead>\n",
       "  <tbody>\n",
       "    <tr>\n",
       "      <th>0</th>\n",
       "      <td>oco.maryjane</td>\n",
       "      <td>[{'href': 'https://www.instagram.com/p/C_zKAzc...</td>\n",
       "      <td>1726107411</td>\n",
       "    </tr>\n",
       "    <tr>\n",
       "      <th>1</th>\n",
       "      <td>vivgwinn</td>\n",
       "      <td>[{'href': 'https://www.instagram.com/p/C_wfvI2...</td>\n",
       "      <td>1726107383</td>\n",
       "    </tr>\n",
       "    <tr>\n",
       "      <th>2</th>\n",
       "      <td>estella.woodworth</td>\n",
       "      <td>[{'href': 'https://www.instagram.com/p/C_wnC0Z...</td>\n",
       "      <td>1726107357</td>\n",
       "    </tr>\n",
       "    <tr>\n",
       "      <th>3</th>\n",
       "      <td>shopeverlore</td>\n",
       "      <td>[{'href': 'https://www.instagram.com/p/C_s_ul1...</td>\n",
       "      <td>1725909425</td>\n",
       "    </tr>\n",
       "    <tr>\n",
       "      <th>4</th>\n",
       "      <td>lizzajenkins_</td>\n",
       "      <td>[{'href': 'https://www.instagram.com/p/C_qJqPE...</td>\n",
       "      <td>1725857595</td>\n",
       "    </tr>\n",
       "  </tbody>\n",
       "</table>\n",
       "</div>"
      ],
      "text/plain": [
       "               title                                   string_list_data  \\\n",
       "0       oco.maryjane  [{'href': 'https://www.instagram.com/p/C_zKAzc...   \n",
       "1           vivgwinn  [{'href': 'https://www.instagram.com/p/C_wfvI2...   \n",
       "2  estella.woodworth  [{'href': 'https://www.instagram.com/p/C_wnC0Z...   \n",
       "3       shopeverlore  [{'href': 'https://www.instagram.com/p/C_s_ul1...   \n",
       "4      lizzajenkins_  [{'href': 'https://www.instagram.com/p/C_qJqPE...   \n",
       "\n",
       "   Time of Like  \n",
       "0    1726107411  \n",
       "1    1726107383  \n",
       "2    1726107357  \n",
       "3    1725909425  \n",
       "4    1725857595  "
      ]
     },
     "execution_count": 265,
     "metadata": {},
     "output_type": "execute_result"
    }
   ],
   "source": [
    "val2.head()"
   ]
  },
  {
   "cell_type": "code",
   "execution_count": 266,
   "id": "907f506f-efa0-461d-8ad1-d07f88374972",
   "metadata": {},
   "outputs": [
    {
     "data": {
      "text/html": [
       "<div>\n",
       "<style scoped>\n",
       "    .dataframe tbody tr th:only-of-type {\n",
       "        vertical-align: middle;\n",
       "    }\n",
       "\n",
       "    .dataframe tbody tr th {\n",
       "        vertical-align: top;\n",
       "    }\n",
       "\n",
       "    .dataframe thead th {\n",
       "        text-align: right;\n",
       "    }\n",
       "</style>\n",
       "<table border=\"1\" class=\"dataframe\">\n",
       "  <thead>\n",
       "    <tr style=\"text-align: right;\">\n",
       "      <th></th>\n",
       "      <th>string_list_data</th>\n",
       "      <th>Time of Like</th>\n",
       "    </tr>\n",
       "    <tr>\n",
       "      <th>title</th>\n",
       "      <th></th>\n",
       "      <th></th>\n",
       "    </tr>\n",
       "  </thead>\n",
       "  <tbody>\n",
       "    <tr>\n",
       "      <th>zetsuya.ph</th>\n",
       "      <td>1</td>\n",
       "      <td>1</td>\n",
       "    </tr>\n",
       "    <tr>\n",
       "      <th>zehngli</th>\n",
       "      <td>1</td>\n",
       "      <td>1</td>\n",
       "    </tr>\n",
       "    <tr>\n",
       "      <th>yoselin.banuelos</th>\n",
       "      <td>5</td>\n",
       "      <td>5</td>\n",
       "    </tr>\n",
       "    <tr>\n",
       "      <th>xctf.runners</th>\n",
       "      <td>1</td>\n",
       "      <td>1</td>\n",
       "    </tr>\n",
       "    <tr>\n",
       "      <th>world_record_egg</th>\n",
       "      <td>1</td>\n",
       "      <td>1</td>\n",
       "    </tr>\n",
       "    <tr>\n",
       "      <th>...</th>\n",
       "      <td>...</td>\n",
       "      <td>...</td>\n",
       "    </tr>\n",
       "    <tr>\n",
       "      <th>____everett____7</th>\n",
       "      <td>24</td>\n",
       "      <td>24</td>\n",
       "    </tr>\n",
       "    <tr>\n",
       "      <th>__.lovepink.__</th>\n",
       "      <td>1</td>\n",
       "      <td>1</td>\n",
       "    </tr>\n",
       "    <tr>\n",
       "      <th>_.p.e.y.t.o.n</th>\n",
       "      <td>1</td>\n",
       "      <td>1</td>\n",
       "    </tr>\n",
       "    <tr>\n",
       "      <th>9gag</th>\n",
       "      <td>1</td>\n",
       "      <td>1</td>\n",
       "    </tr>\n",
       "    <tr>\n",
       "      <th>4h_is_life_frankey5236</th>\n",
       "      <td>2</td>\n",
       "      <td>2</td>\n",
       "    </tr>\n",
       "  </tbody>\n",
       "</table>\n",
       "<p>404 rows × 2 columns</p>\n",
       "</div>"
      ],
      "text/plain": [
       "                        string_list_data  Time of Like\n",
       "title                                                 \n",
       "zetsuya.ph                             1             1\n",
       "zehngli                                1             1\n",
       "yoselin.banuelos                       5             5\n",
       "xctf.runners                           1             1\n",
       "world_record_egg                       1             1\n",
       "...                                  ...           ...\n",
       "____everett____7                      24            24\n",
       "__.lovepink.__                         1             1\n",
       "_.p.e.y.t.o.n                          1             1\n",
       "9gag                                   1             1\n",
       "4h_is_life_frankey5236                 2             2\n",
       "\n",
       "[404 rows x 2 columns]"
      ]
     },
     "execution_count": 266,
     "metadata": {},
     "output_type": "execute_result"
    }
   ],
   "source": [
    "val2.groupby('title').count().\\\n",
    "sort_values('title', ascending = False)"
   ]
  },
  {
   "cell_type": "markdown",
   "id": "8d8736b8-dfb2-4ea3-80ac-aae6e89d91ef",
   "metadata": {},
   "source": [
    "## My Hypothesis:\n",
    "### The quantity of my comments ties directly into which account it's linked to.\n",
    "\n",
    "Theoretical: I comment more on certain posts based on who owns the account.\n",
    "\n",
    "Statistical: My top two friends on instagram (Estella and Paige) will have the majority of my total number of comments I have ever left. \n",
    "\n",
    "##### I believe the JSON file that will help me test my hypothesis will be the \"post_comments_1\" file that is in my \"your_instagram_activity\" folder."
   ]
  },
  {
   "cell_type": "code",
   "execution_count": 267,
   "id": "f1075702-a449-46e7-a318-7174f9fda5cf",
   "metadata": {},
   "outputs": [],
   "source": [
    "path = r\"C:\\Users\\lgerk\\Downloads\\instagram-leah.gerke-2024-09-12-coLtGm0R\\your_instagram_activity\\comments\\post_comments_1.json\"\n",
    "with open(path) as j:\n",
    "    cmts = json.load(j)"
   ]
  },
  {
   "cell_type": "code",
   "execution_count": 268,
   "id": "8628e172-0821-4c6c-b6a0-32c0a2543faf",
   "metadata": {},
   "outputs": [],
   "source": [
    "dfc = pd.DataFrame(cmts)"
   ]
  },
  {
   "cell_type": "code",
   "execution_count": 269,
   "id": "f665bb23-8d61-4b59-bebf-ad2b66056305",
   "metadata": {},
   "outputs": [
    {
     "ename": "AttributeError",
     "evalue": "'list' object has no attribute 'keys'",
     "output_type": "error",
     "traceback": [
      "\u001b[1;31m---------------------------------------------------------------------------\u001b[0m",
      "\u001b[1;31mAttributeError\u001b[0m                            Traceback (most recent call last)",
      "Cell \u001b[1;32mIn[269], line 1\u001b[0m\n\u001b[1;32m----> 1\u001b[0m cmts\u001b[38;5;241m.\u001b[39mkeys()\n",
      "\u001b[1;31mAttributeError\u001b[0m: 'list' object has no attribute 'keys'"
     ]
    }
   ],
   "source": [
    "cmts.keys()"
   ]
  },
  {
   "cell_type": "code",
   "execution_count": 270,
   "id": "ba1649fa-e0fd-4b14-ba43-bde69813b1f7",
   "metadata": {},
   "outputs": [
    {
     "data": {
      "text/plain": [
       "list"
      ]
     },
     "execution_count": 270,
     "metadata": {},
     "output_type": "execute_result"
    }
   ],
   "source": [
    "type(cmts)"
   ]
  },
  {
   "cell_type": "markdown",
   "id": "8ace5dcd-10bc-40a6-882a-c5e62757952c",
   "metadata": {},
   "source": [
    "_I attempted to display a list of the keys in my cmts dictionary but it seems that \"cmts\" is a list and therfore my dictionary method does not work on it._"
   ]
  },
  {
   "cell_type": "code",
   "execution_count": 271,
   "id": "e5aa0fc1-834a-480f-91ce-048fee7fafe1",
   "metadata": {},
   "outputs": [
    {
     "data": {
      "text/plain": [
       "{'media_list_data': [{'uri': ''}],\n",
       " 'string_map_data': {'Comment': {'value': 'The cutest'},\n",
       "  'Media Owner': {'value': 'estella.woodworth'},\n",
       "  'Time': {'timestamp': 1726107369}}}"
      ]
     },
     "execution_count": 271,
     "metadata": {},
     "output_type": "execute_result"
    }
   ],
   "source": [
    "cmts[0]"
   ]
  },
  {
   "cell_type": "markdown",
   "id": "05a1f21c-47cd-4985-be13-f0084bb85149",
   "metadata": {},
   "source": [
    "_I then attempted to see what is in the list to see if I could use the content in it._"
   ]
  },
  {
   "cell_type": "code",
   "execution_count": 278,
   "id": "b73f1dce-faf7-4cfd-b35e-33c5068c0649",
   "metadata": {},
   "outputs": [
    {
     "ename": "TypeError",
     "evalue": "list indices must be integers or slices, not set",
     "output_type": "error",
     "traceback": [
      "\u001b[1;31m---------------------------------------------------------------------------\u001b[0m",
      "\u001b[1;31mTypeError\u001b[0m                                 Traceback (most recent call last)",
      "Cell \u001b[1;32mIn[278], line 1\u001b[0m\n\u001b[1;32m----> 1\u001b[0m cmts[{\u001b[38;5;124m'\u001b[39m\u001b[38;5;124mstring_map_data\u001b[39m\u001b[38;5;124m'\u001b[39m}] \u001b[38;5;241m=\u001b[39m [\u001b[38;5;124m'\u001b[39m\u001b[38;5;124mSender is: \u001b[39m\u001b[38;5;124m'\u001b[39m\u001b[38;5;241m+\u001b[39mx \u001b[38;5;28;01mfor\u001b[39;00m x \u001b[38;5;129;01min\u001b[39;00m cmts[{\u001b[38;5;124m'\u001b[39m\u001b[38;5;124mstring_map_data\u001b[39m\u001b[38;5;124m'\u001b[39m}]]\n\u001b[0;32m      2\u001b[0m cmts\u001b[38;5;241m.\u001b[39mhead()\n",
      "\u001b[1;31mTypeError\u001b[0m: list indices must be integers or slices, not set"
     ]
    }
   ],
   "source": [
    "cmts[{'string_map_data'}] = ['Sender is: '+x for x in cmts[{'string_map_data'}]]\n",
    "cmts.head()"
   ]
  },
  {
   "cell_type": "markdown",
   "id": "1f58d6ea-be75-41e3-81bd-11fc7eb4b66c",
   "metadata": {},
   "source": [
    "_Unfortunately I still am an unsure how to isolate the content in the list the same way I would a dictionary._"
   ]
  },
  {
   "cell_type": "code",
   "execution_count": 279,
   "id": "51688ef2-d94f-4857-b1fc-663cc15d270e",
   "metadata": {},
   "outputs": [
    {
     "data": {
      "text/html": [
       "<div>\n",
       "<style scoped>\n",
       "    .dataframe tbody tr th:only-of-type {\n",
       "        vertical-align: middle;\n",
       "    }\n",
       "\n",
       "    .dataframe tbody tr th {\n",
       "        vertical-align: top;\n",
       "    }\n",
       "\n",
       "    .dataframe thead th {\n",
       "        text-align: right;\n",
       "    }\n",
       "</style>\n",
       "<table border=\"1\" class=\"dataframe\">\n",
       "  <thead>\n",
       "    <tr style=\"text-align: right;\">\n",
       "      <th></th>\n",
       "      <th>media_list_data</th>\n",
       "      <th>string_map_data</th>\n",
       "    </tr>\n",
       "  </thead>\n",
       "  <tbody>\n",
       "    <tr>\n",
       "      <th>0</th>\n",
       "      <td>[{'uri': ''}]</td>\n",
       "      <td>{'Comment': {'value': 'The cutest'}, 'Media Ow...</td>\n",
       "    </tr>\n",
       "    <tr>\n",
       "      <th>1</th>\n",
       "      <td>[{'uri': ''}]</td>\n",
       "      <td>{'Comment': {'value': 'So pretty Jewli'}, 'Med...</td>\n",
       "    </tr>\n",
       "    <tr>\n",
       "      <th>2</th>\n",
       "      <td>[{'uri': ''}]</td>\n",
       "      <td>{'Comment': {'value': 'So studious ð'}, 'Me...</td>\n",
       "    </tr>\n",
       "    <tr>\n",
       "      <th>3</th>\n",
       "      <td>[{'uri': ''}]</td>\n",
       "      <td>{'Comment': {'value': 'This is so awesome'}, '...</td>\n",
       "    </tr>\n",
       "    <tr>\n",
       "      <th>4</th>\n",
       "      <td>[{'uri': ''}]</td>\n",
       "      <td>{'Comment': {'value': 'So fun so cute'}, 'Medi...</td>\n",
       "    </tr>\n",
       "    <tr>\n",
       "      <th>5</th>\n",
       "      <td>[{'uri': ''}]</td>\n",
       "      <td>{'Comment': {'value': 'You are actually the cu...</td>\n",
       "    </tr>\n",
       "    <tr>\n",
       "      <th>6</th>\n",
       "      <td>[{'uri': ''}]</td>\n",
       "      <td>{'Comment': {'value': 'Youâre the coolest pe...</td>\n",
       "    </tr>\n",
       "    <tr>\n",
       "      <th>7</th>\n",
       "      <td>[{'uri': ''}]</td>\n",
       "      <td>{'Comment': {'value': 'Love'}, 'Media Owner': ...</td>\n",
       "    </tr>\n",
       "    <tr>\n",
       "      <th>8</th>\n",
       "      <td>[{'uri': ''}]</td>\n",
       "      <td>{'Comment': {'value': 'Gorgeous girl'}, 'Media...</td>\n",
       "    </tr>\n",
       "    <tr>\n",
       "      <th>9</th>\n",
       "      <td>[{'uri': ''}]</td>\n",
       "      <td>{'Comment': {'value': 'Youâre actually the p...</td>\n",
       "    </tr>\n",
       "  </tbody>\n",
       "</table>\n",
       "</div>"
      ],
      "text/plain": [
       "  media_list_data                                    string_map_data\n",
       "0   [{'uri': ''}]  {'Comment': {'value': 'The cutest'}, 'Media Ow...\n",
       "1   [{'uri': ''}]  {'Comment': {'value': 'So pretty Jewli'}, 'Med...\n",
       "2   [{'uri': ''}]  {'Comment': {'value': 'So studious ð'}, 'Me...\n",
       "3   [{'uri': ''}]  {'Comment': {'value': 'This is so awesome'}, '...\n",
       "4   [{'uri': ''}]  {'Comment': {'value': 'So fun so cute'}, 'Medi...\n",
       "5   [{'uri': ''}]  {'Comment': {'value': 'You are actually the cu...\n",
       "6   [{'uri': ''}]  {'Comment': {'value': 'Youâre the coolest pe...\n",
       "7   [{'uri': ''}]  {'Comment': {'value': 'Love'}, 'Media Owner': ...\n",
       "8   [{'uri': ''}]  {'Comment': {'value': 'Gorgeous girl'}, 'Media...\n",
       "9   [{'uri': ''}]  {'Comment': {'value': 'Youâre actually the p..."
      ]
     },
     "execution_count": 279,
     "metadata": {},
     "output_type": "execute_result"
    }
   ],
   "source": [
    "dfc.head(10)"
   ]
  },
  {
   "cell_type": "markdown",
   "id": "02e9a2a3-4c76-4c85-aa40-880feca896de",
   "metadata": {},
   "source": [
    "_After my cmts did not work, I wanted to see if my dataframe would display anything similar so I used .head() to view the data in it._\n",
    "\n",
    "_I also wanted to showcase how I would display the first 10 rows of the data by instering 10 in the parantheses of .head()._"
   ]
  },
  {
   "cell_type": "code",
   "execution_count": 280,
   "id": "5c6b8e94-ac56-4e38-96cd-f0a888612bc4",
   "metadata": {},
   "outputs": [
    {
     "data": {
      "text/plain": [
       "{'Comment': {'value': 'The cutest'},\n",
       " 'Media Owner': {'value': 'estella.woodworth'},\n",
       " 'Time': {'timestamp': 1726107369}}"
      ]
     },
     "execution_count": 280,
     "metadata": {},
     "output_type": "execute_result"
    }
   ],
   "source": [
    "dfc['string_map_data'].iloc[0]"
   ]
  },
  {
   "cell_type": "markdown",
   "id": "4d30964f-8c73-4f8c-8a8b-7b122dd826bd",
   "metadata": {},
   "source": [
    "_I then wanted to isolate the first row of the data so I used .iloc[0]._"
   ]
  },
  {
   "cell_type": "code",
   "execution_count": 281,
   "id": "c9172945-f832-426d-bf3a-9d9be938a9e7",
   "metadata": {},
   "outputs": [
    {
     "data": {
      "text/plain": [
       "{'value': 'estella.woodworth'}"
      ]
     },
     "execution_count": 281,
     "metadata": {},
     "output_type": "execute_result"
    }
   ],
   "source": [
    "dfc['string_map_data'].iloc[0]['Media Owner']"
   ]
  },
  {
   "cell_type": "markdown",
   "id": "8f049438-3181-4149-9f91-cf5eda72ff06",
   "metadata": {},
   "source": [
    "_I did this next step to try to drive specifically the \"Media Owner\" content out, and I got what I was looking for in that it showed what user account I commented on for the first row of the data._"
   ]
  },
  {
   "cell_type": "code",
   "execution_count": 282,
   "id": "22799e53-b96c-48ab-b3fa-a51fd48927e2",
   "metadata": {},
   "outputs": [
    {
     "ename": "KeyError",
     "evalue": "'Media Owner'",
     "output_type": "error",
     "traceback": [
      "\u001b[1;31m---------------------------------------------------------------------------\u001b[0m",
      "\u001b[1;31mKeyError\u001b[0m                                  Traceback (most recent call last)",
      "Cell \u001b[1;32mIn[282], line 1\u001b[0m\n\u001b[1;32m----> 1\u001b[0m dfc[\u001b[38;5;124m'\u001b[39m\u001b[38;5;124mUser Account\u001b[39m\u001b[38;5;124m'\u001b[39m] \u001b[38;5;241m=\u001b[39m [x[\u001b[38;5;124m'\u001b[39m\u001b[38;5;124mMedia Owner\u001b[39m\u001b[38;5;124m'\u001b[39m] \u001b[38;5;28;01mfor\u001b[39;00m x \u001b[38;5;129;01min\u001b[39;00m dfc[\u001b[38;5;124m'\u001b[39m\u001b[38;5;124mstring_map_data\u001b[39m\u001b[38;5;124m'\u001b[39m]]\n",
      "\u001b[1;31mKeyError\u001b[0m: 'Media Owner'"
     ]
    }
   ],
   "source": [
    "dfc['User Account'] = [x['Media Owner'] for x in dfc['string_map_data']]"
   ]
  },
  {
   "cell_type": "markdown",
   "id": "05dbcd16-71f2-4cb7-b5a1-e9c0a676c6e0",
   "metadata": {},
   "source": [
    "_After that, I wanted to display the all of \"Media Owner\" content in the \"string_map_data\", but it seems that it is not included in that data.\n",
    "I am not exactly sure now how to get the outcome I want, but I tried many different ways that all resulted in some type of error._"
   ]
  },
  {
   "cell_type": "code",
   "execution_count": 283,
   "id": "d1ec00da-56ef-4ea7-a193-c265c34823d3",
   "metadata": {},
   "outputs": [
    {
     "ename": "KeyError",
     "evalue": "'User Account'",
     "output_type": "error",
     "traceback": [
      "\u001b[1;31m---------------------------------------------------------------------------\u001b[0m",
      "\u001b[1;31mKeyError\u001b[0m                                  Traceback (most recent call last)",
      "Cell \u001b[1;32mIn[283], line 1\u001b[0m\n\u001b[1;32m----> 1\u001b[0m dfc\u001b[38;5;241m.\u001b[39mgroupby(\u001b[38;5;124m'\u001b[39m\u001b[38;5;124mUser Account\u001b[39m\u001b[38;5;124m'\u001b[39m)\u001b[38;5;241m.\u001b[39mcount()\u001b[38;5;241m.\u001b[39m\\\n\u001b[0;32m      2\u001b[0m sort_values(\u001b[38;5;124m'\u001b[39m\u001b[38;5;124mMedia Owner\u001b[39m\u001b[38;5;124m'\u001b[39m, ascending \u001b[38;5;241m=\u001b[39m \u001b[38;5;28;01mFalse\u001b[39;00m)\n",
      "File \u001b[1;32m~\\anaconda3\\envs\\data_fa24\\Lib\\site-packages\\pandas\\core\\frame.py:9183\u001b[0m, in \u001b[0;36mDataFrame.groupby\u001b[1;34m(self, by, axis, level, as_index, sort, group_keys, observed, dropna)\u001b[0m\n\u001b[0;32m   9180\u001b[0m \u001b[38;5;28;01mif\u001b[39;00m level \u001b[38;5;129;01mis\u001b[39;00m \u001b[38;5;28;01mNone\u001b[39;00m \u001b[38;5;129;01mand\u001b[39;00m by \u001b[38;5;129;01mis\u001b[39;00m \u001b[38;5;28;01mNone\u001b[39;00m:\n\u001b[0;32m   9181\u001b[0m     \u001b[38;5;28;01mraise\u001b[39;00m \u001b[38;5;167;01mTypeError\u001b[39;00m(\u001b[38;5;124m\"\u001b[39m\u001b[38;5;124mYou have to supply one of \u001b[39m\u001b[38;5;124m'\u001b[39m\u001b[38;5;124mby\u001b[39m\u001b[38;5;124m'\u001b[39m\u001b[38;5;124m and \u001b[39m\u001b[38;5;124m'\u001b[39m\u001b[38;5;124mlevel\u001b[39m\u001b[38;5;124m'\u001b[39m\u001b[38;5;124m\"\u001b[39m)\n\u001b[1;32m-> 9183\u001b[0m \u001b[38;5;28;01mreturn\u001b[39;00m DataFrameGroupBy(\n\u001b[0;32m   9184\u001b[0m     obj\u001b[38;5;241m=\u001b[39m\u001b[38;5;28mself\u001b[39m,\n\u001b[0;32m   9185\u001b[0m     keys\u001b[38;5;241m=\u001b[39mby,\n\u001b[0;32m   9186\u001b[0m     axis\u001b[38;5;241m=\u001b[39maxis,\n\u001b[0;32m   9187\u001b[0m     level\u001b[38;5;241m=\u001b[39mlevel,\n\u001b[0;32m   9188\u001b[0m     as_index\u001b[38;5;241m=\u001b[39mas_index,\n\u001b[0;32m   9189\u001b[0m     sort\u001b[38;5;241m=\u001b[39msort,\n\u001b[0;32m   9190\u001b[0m     group_keys\u001b[38;5;241m=\u001b[39mgroup_keys,\n\u001b[0;32m   9191\u001b[0m     observed\u001b[38;5;241m=\u001b[39mobserved,\n\u001b[0;32m   9192\u001b[0m     dropna\u001b[38;5;241m=\u001b[39mdropna,\n\u001b[0;32m   9193\u001b[0m )\n",
      "File \u001b[1;32m~\\anaconda3\\envs\\data_fa24\\Lib\\site-packages\\pandas\\core\\groupby\\groupby.py:1329\u001b[0m, in \u001b[0;36mGroupBy.__init__\u001b[1;34m(self, obj, keys, axis, level, grouper, exclusions, selection, as_index, sort, group_keys, observed, dropna)\u001b[0m\n\u001b[0;32m   1326\u001b[0m \u001b[38;5;28mself\u001b[39m\u001b[38;5;241m.\u001b[39mdropna \u001b[38;5;241m=\u001b[39m dropna\n\u001b[0;32m   1328\u001b[0m \u001b[38;5;28;01mif\u001b[39;00m grouper \u001b[38;5;129;01mis\u001b[39;00m \u001b[38;5;28;01mNone\u001b[39;00m:\n\u001b[1;32m-> 1329\u001b[0m     grouper, exclusions, obj \u001b[38;5;241m=\u001b[39m get_grouper(\n\u001b[0;32m   1330\u001b[0m         obj,\n\u001b[0;32m   1331\u001b[0m         keys,\n\u001b[0;32m   1332\u001b[0m         axis\u001b[38;5;241m=\u001b[39maxis,\n\u001b[0;32m   1333\u001b[0m         level\u001b[38;5;241m=\u001b[39mlevel,\n\u001b[0;32m   1334\u001b[0m         sort\u001b[38;5;241m=\u001b[39msort,\n\u001b[0;32m   1335\u001b[0m         observed\u001b[38;5;241m=\u001b[39m\u001b[38;5;28;01mFalse\u001b[39;00m \u001b[38;5;28;01mif\u001b[39;00m observed \u001b[38;5;129;01mis\u001b[39;00m lib\u001b[38;5;241m.\u001b[39mno_default \u001b[38;5;28;01melse\u001b[39;00m observed,\n\u001b[0;32m   1336\u001b[0m         dropna\u001b[38;5;241m=\u001b[39m\u001b[38;5;28mself\u001b[39m\u001b[38;5;241m.\u001b[39mdropna,\n\u001b[0;32m   1337\u001b[0m     )\n\u001b[0;32m   1339\u001b[0m \u001b[38;5;28;01mif\u001b[39;00m observed \u001b[38;5;129;01mis\u001b[39;00m lib\u001b[38;5;241m.\u001b[39mno_default:\n\u001b[0;32m   1340\u001b[0m     \u001b[38;5;28;01mif\u001b[39;00m \u001b[38;5;28many\u001b[39m(ping\u001b[38;5;241m.\u001b[39m_passed_categorical \u001b[38;5;28;01mfor\u001b[39;00m ping \u001b[38;5;129;01min\u001b[39;00m grouper\u001b[38;5;241m.\u001b[39mgroupings):\n",
      "File \u001b[1;32m~\\anaconda3\\envs\\data_fa24\\Lib\\site-packages\\pandas\\core\\groupby\\grouper.py:1043\u001b[0m, in \u001b[0;36mget_grouper\u001b[1;34m(obj, key, axis, level, sort, observed, validate, dropna)\u001b[0m\n\u001b[0;32m   1041\u001b[0m         in_axis, level, gpr \u001b[38;5;241m=\u001b[39m \u001b[38;5;28;01mFalse\u001b[39;00m, gpr, \u001b[38;5;28;01mNone\u001b[39;00m\n\u001b[0;32m   1042\u001b[0m     \u001b[38;5;28;01melse\u001b[39;00m:\n\u001b[1;32m-> 1043\u001b[0m         \u001b[38;5;28;01mraise\u001b[39;00m \u001b[38;5;167;01mKeyError\u001b[39;00m(gpr)\n\u001b[0;32m   1044\u001b[0m \u001b[38;5;28;01melif\u001b[39;00m \u001b[38;5;28misinstance\u001b[39m(gpr, Grouper) \u001b[38;5;129;01mand\u001b[39;00m gpr\u001b[38;5;241m.\u001b[39mkey \u001b[38;5;129;01mis\u001b[39;00m \u001b[38;5;129;01mnot\u001b[39;00m \u001b[38;5;28;01mNone\u001b[39;00m:\n\u001b[0;32m   1045\u001b[0m     \u001b[38;5;66;03m# Add key to exclusions\u001b[39;00m\n\u001b[0;32m   1046\u001b[0m     exclusions\u001b[38;5;241m.\u001b[39madd(gpr\u001b[38;5;241m.\u001b[39mkey)\n",
      "\u001b[1;31mKeyError\u001b[0m: 'User Account'"
     ]
    }
   ],
   "source": [
    "dfc.groupby('User Account').count().\\\n",
    "sort_values('Media Owner', ascending = False)"
   ]
  },
  {
   "cell_type": "markdown",
   "id": "6a33b9fd-9db0-435f-8e23-a4230a6d3726",
   "metadata": {},
   "source": [
    "_If my previous code had worked, I would have attempted to group and organize whatever data is showcased by the ammount of comments I had left on each user account. The code would look similar to what is displayed above but I would know more how to do it if any of my previous code had worked._"
   ]
  },
  {
   "cell_type": "code",
   "execution_count": 284,
   "id": "ad722cb9-e908-40a9-914a-3740d370343b",
   "metadata": {},
   "outputs": [],
   "source": [
    "import matplotlib as plt"
   ]
  },
  {
   "cell_type": "code",
   "execution_count": 285,
   "id": "d173e094-a102-4194-9c66-86a59a879c88",
   "metadata": {},
   "outputs": [
    {
     "ename": "KeyError",
     "evalue": "'User Account'",
     "output_type": "error",
     "traceback": [
      "\u001b[1;31m---------------------------------------------------------------------------\u001b[0m",
      "\u001b[1;31mKeyError\u001b[0m                                  Traceback (most recent call last)",
      "Cell \u001b[1;32mIn[285], line 1\u001b[0m\n\u001b[1;32m----> 1\u001b[0m dfc\u001b[38;5;241m.\u001b[39mgroupby(\u001b[38;5;124m'\u001b[39m\u001b[38;5;124mUser Account\u001b[39m\u001b[38;5;124m'\u001b[39m)\u001b[38;5;241m.\u001b[39mcount()\u001b[38;5;241m.\u001b[39m\\\n\u001b[0;32m      2\u001b[0m sort_values(\u001b[38;5;124m'\u001b[39m\u001b[38;5;124mMedia Owner\u001b[39m\u001b[38;5;124m'\u001b[39m, ascending \u001b[38;5;241m=\u001b[39m \u001b[38;5;28;01mFalse\u001b[39;00m)[\u001b[38;5;124m'\u001b[39m\u001b[38;5;124mMedia Owner\u001b[39m\u001b[38;5;124m'\u001b[39m]\u001b[38;5;241m.\u001b[39mplot(kind \u001b[38;5;241m=\u001b[39m \u001b[38;5;124m'\u001b[39m\u001b[38;5;124mbar\u001b[39m\u001b[38;5;124m'\u001b[39m)\n",
      "File \u001b[1;32m~\\anaconda3\\envs\\data_fa24\\Lib\\site-packages\\pandas\\core\\frame.py:9183\u001b[0m, in \u001b[0;36mDataFrame.groupby\u001b[1;34m(self, by, axis, level, as_index, sort, group_keys, observed, dropna)\u001b[0m\n\u001b[0;32m   9180\u001b[0m \u001b[38;5;28;01mif\u001b[39;00m level \u001b[38;5;129;01mis\u001b[39;00m \u001b[38;5;28;01mNone\u001b[39;00m \u001b[38;5;129;01mand\u001b[39;00m by \u001b[38;5;129;01mis\u001b[39;00m \u001b[38;5;28;01mNone\u001b[39;00m:\n\u001b[0;32m   9181\u001b[0m     \u001b[38;5;28;01mraise\u001b[39;00m \u001b[38;5;167;01mTypeError\u001b[39;00m(\u001b[38;5;124m\"\u001b[39m\u001b[38;5;124mYou have to supply one of \u001b[39m\u001b[38;5;124m'\u001b[39m\u001b[38;5;124mby\u001b[39m\u001b[38;5;124m'\u001b[39m\u001b[38;5;124m and \u001b[39m\u001b[38;5;124m'\u001b[39m\u001b[38;5;124mlevel\u001b[39m\u001b[38;5;124m'\u001b[39m\u001b[38;5;124m\"\u001b[39m)\n\u001b[1;32m-> 9183\u001b[0m \u001b[38;5;28;01mreturn\u001b[39;00m DataFrameGroupBy(\n\u001b[0;32m   9184\u001b[0m     obj\u001b[38;5;241m=\u001b[39m\u001b[38;5;28mself\u001b[39m,\n\u001b[0;32m   9185\u001b[0m     keys\u001b[38;5;241m=\u001b[39mby,\n\u001b[0;32m   9186\u001b[0m     axis\u001b[38;5;241m=\u001b[39maxis,\n\u001b[0;32m   9187\u001b[0m     level\u001b[38;5;241m=\u001b[39mlevel,\n\u001b[0;32m   9188\u001b[0m     as_index\u001b[38;5;241m=\u001b[39mas_index,\n\u001b[0;32m   9189\u001b[0m     sort\u001b[38;5;241m=\u001b[39msort,\n\u001b[0;32m   9190\u001b[0m     group_keys\u001b[38;5;241m=\u001b[39mgroup_keys,\n\u001b[0;32m   9191\u001b[0m     observed\u001b[38;5;241m=\u001b[39mobserved,\n\u001b[0;32m   9192\u001b[0m     dropna\u001b[38;5;241m=\u001b[39mdropna,\n\u001b[0;32m   9193\u001b[0m )\n",
      "File \u001b[1;32m~\\anaconda3\\envs\\data_fa24\\Lib\\site-packages\\pandas\\core\\groupby\\groupby.py:1329\u001b[0m, in \u001b[0;36mGroupBy.__init__\u001b[1;34m(self, obj, keys, axis, level, grouper, exclusions, selection, as_index, sort, group_keys, observed, dropna)\u001b[0m\n\u001b[0;32m   1326\u001b[0m \u001b[38;5;28mself\u001b[39m\u001b[38;5;241m.\u001b[39mdropna \u001b[38;5;241m=\u001b[39m dropna\n\u001b[0;32m   1328\u001b[0m \u001b[38;5;28;01mif\u001b[39;00m grouper \u001b[38;5;129;01mis\u001b[39;00m \u001b[38;5;28;01mNone\u001b[39;00m:\n\u001b[1;32m-> 1329\u001b[0m     grouper, exclusions, obj \u001b[38;5;241m=\u001b[39m get_grouper(\n\u001b[0;32m   1330\u001b[0m         obj,\n\u001b[0;32m   1331\u001b[0m         keys,\n\u001b[0;32m   1332\u001b[0m         axis\u001b[38;5;241m=\u001b[39maxis,\n\u001b[0;32m   1333\u001b[0m         level\u001b[38;5;241m=\u001b[39mlevel,\n\u001b[0;32m   1334\u001b[0m         sort\u001b[38;5;241m=\u001b[39msort,\n\u001b[0;32m   1335\u001b[0m         observed\u001b[38;5;241m=\u001b[39m\u001b[38;5;28;01mFalse\u001b[39;00m \u001b[38;5;28;01mif\u001b[39;00m observed \u001b[38;5;129;01mis\u001b[39;00m lib\u001b[38;5;241m.\u001b[39mno_default \u001b[38;5;28;01melse\u001b[39;00m observed,\n\u001b[0;32m   1336\u001b[0m         dropna\u001b[38;5;241m=\u001b[39m\u001b[38;5;28mself\u001b[39m\u001b[38;5;241m.\u001b[39mdropna,\n\u001b[0;32m   1337\u001b[0m     )\n\u001b[0;32m   1339\u001b[0m \u001b[38;5;28;01mif\u001b[39;00m observed \u001b[38;5;129;01mis\u001b[39;00m lib\u001b[38;5;241m.\u001b[39mno_default:\n\u001b[0;32m   1340\u001b[0m     \u001b[38;5;28;01mif\u001b[39;00m \u001b[38;5;28many\u001b[39m(ping\u001b[38;5;241m.\u001b[39m_passed_categorical \u001b[38;5;28;01mfor\u001b[39;00m ping \u001b[38;5;129;01min\u001b[39;00m grouper\u001b[38;5;241m.\u001b[39mgroupings):\n",
      "File \u001b[1;32m~\\anaconda3\\envs\\data_fa24\\Lib\\site-packages\\pandas\\core\\groupby\\grouper.py:1043\u001b[0m, in \u001b[0;36mget_grouper\u001b[1;34m(obj, key, axis, level, sort, observed, validate, dropna)\u001b[0m\n\u001b[0;32m   1041\u001b[0m         in_axis, level, gpr \u001b[38;5;241m=\u001b[39m \u001b[38;5;28;01mFalse\u001b[39;00m, gpr, \u001b[38;5;28;01mNone\u001b[39;00m\n\u001b[0;32m   1042\u001b[0m     \u001b[38;5;28;01melse\u001b[39;00m:\n\u001b[1;32m-> 1043\u001b[0m         \u001b[38;5;28;01mraise\u001b[39;00m \u001b[38;5;167;01mKeyError\u001b[39;00m(gpr)\n\u001b[0;32m   1044\u001b[0m \u001b[38;5;28;01melif\u001b[39;00m \u001b[38;5;28misinstance\u001b[39m(gpr, Grouper) \u001b[38;5;129;01mand\u001b[39;00m gpr\u001b[38;5;241m.\u001b[39mkey \u001b[38;5;129;01mis\u001b[39;00m \u001b[38;5;129;01mnot\u001b[39;00m \u001b[38;5;28;01mNone\u001b[39;00m:\n\u001b[0;32m   1045\u001b[0m     \u001b[38;5;66;03m# Add key to exclusions\u001b[39;00m\n\u001b[0;32m   1046\u001b[0m     exclusions\u001b[38;5;241m.\u001b[39madd(gpr\u001b[38;5;241m.\u001b[39mkey)\n",
      "\u001b[1;31mKeyError\u001b[0m: 'User Account'"
     ]
    }
   ],
   "source": [
    "dfc.groupby('User Account').count().\\\n",
    "sort_values('Media Owner', ascending = False)['Media Owner'].plot(kind = 'bar')"
   ]
  },
  {
   "cell_type": "markdown",
   "id": "92f73afa-579d-476a-aff4-902dbbf9f74e",
   "metadata": {},
   "source": [
    "_And similar to the code previous, I would know the specifics on how to organize it based on if my code had worked. I would have wanted to further tidy/organize my data by displaying it as a bar graph where the User Account names would be on the bottom and the number of comments I have left on their account would be on the side._"
   ]
  },
  {
   "cell_type": "markdown",
   "id": "7b8714a4-2c55-4beb-b4b5-d843399101e0",
   "metadata": {},
   "source": [
    "## In a Markdown cell, describe what you think the data in the DataFrame represents, whether the DataFrame meets tidy principles, and whether the data can be used to test your hypothesis.\n",
    "Even though I was not able to see the data, I still believe that my hypothesis would have been correct in that Estella and Paige, who are my real life friends, would have been the two accounts I have left the most comments on.\n",
    "\n",
    "The bar graph would have, hopefully, indicated that Estella and Paige received the most comments out of all the other accounts I have left comments on which would have showcased that my hypothesis was correct.\n",
    "\n",
    "## Conclusions\n",
    "\n",
    "I am fairly disappointed that I could not figure out how to isolate the exact data I wanted, but I hope my markdown comments provided enough explanation on what I attempted to do and I was hopefully using the right methods even though they did not apply to my particular data. \n",
    "\n",
    "I did use almost every in-class notebook on hand to help me write and understand my code. I also sought out chatgpt to help me understand the errors, but I did not actually use any of the information provided by it in my actual code, only to understand why my methods may not have been working. After that, I emailed my professor to get recommendations and suggestions. \n",
    "\n",
    "I maybe should have used a different data set so I could really see if my methods were correct, but by the time I really understood that it was probably not going to work, it was too late to rewrite my entire hypothesis. Hopefully in the future I will be able to solve my issues."
   ]
  },
  {
   "cell_type": "code",
   "execution_count": null,
   "id": "3434a5eb-972c-439c-83c0-92a3ea86927d",
   "metadata": {},
   "outputs": [],
   "source": []
  }
 ],
 "metadata": {
  "kernelspec": {
   "display_name": "Python 3 (ipykernel)",
   "language": "python",
   "name": "python3"
  },
  "language_info": {
   "codemirror_mode": {
    "name": "ipython",
    "version": 3
   },
   "file_extension": ".py",
   "mimetype": "text/x-python",
   "name": "python",
   "nbconvert_exporter": "python",
   "pygments_lexer": "ipython3",
   "version": "3.12.4"
  }
 },
 "nbformat": 4,
 "nbformat_minor": 5
}
