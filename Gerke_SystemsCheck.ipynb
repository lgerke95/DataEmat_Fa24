{
 "cells": [
  {
   "cell_type": "markdown",
   "id": "7eea2db9-3034-431c-9d34-e0518969c5d2",
   "metadata": {},
   "source": [
    "# Leah Gerke\n",
    "## SystemsCheck\n",
    "I hope to get more familiar with and learn about:\n",
    "1. _python_\n",
    "2. __HTML/CSS__\n",
    "3. javascript\n",
    "![](https://encrypted-tbn0.gstatic.com/images?q=tbn:ANd9GcSMikqrsC9TBxVVZ8ebRL0ygK36tVQW_PGiBw&s)"
   ]
  }
 ],
 "metadata": {
  "kernelspec": {
   "display_name": "Python 3 (ipykernel)",
   "language": "python",
   "name": "python3"
  },
  "language_info": {
   "codemirror_mode": {
    "name": "ipython",
    "version": 3
   },
   "file_extension": ".py",
   "mimetype": "text/x-python",
   "name": "python",
   "nbconvert_exporter": "python",
   "pygments_lexer": "ipython3",
   "version": "3.12.4"
  }
 },
 "nbformat": 4,
 "nbformat_minor": 5
}
